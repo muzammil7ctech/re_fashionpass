{
 "cells": [
  {
   "cell_type": "code",
   "execution_count": 84,
   "id": "6bbb4369",
   "metadata": {},
   "outputs": [],
   "source": [
    "from pyspark.sql.session import SparkSession\n",
    "from sklearn.metrics.pairwise import cosine_similarity\n",
    "import numpy as np\n",
    "import pandas as pd\n",
    "from pyspark.sql.types import *\n",
    "from pyspark.sql.functions import concat,concat_ws\n",
    "from pyspark.sql.functions import *\n",
    "import re\n",
    "import nltk\n",
    "from nltk.stem import PorterStemmer\n",
    "from nltk.corpus import stopwords\n",
    "# nltk.download('punkt')\n",
    "# nltk.download('stopwords')\n",
    "from nltk.stem import WordNetLemmatizer\n",
    "# nltk.download('wordnet')\n",
    "import pandas as pd\n",
    "import sklearn as sk\n",
    "import numpy as np\n",
    "import re\n",
    "from sklearn.feature_extraction.text import CountVectorizer\n",
    "from sklearn.feature_extraction.text import TfidfVectorizer"
   ]
  },
  {
   "cell_type": "code",
   "execution_count": 90,
   "id": "c80c2f16",
   "metadata": {},
   "outputs": [],
   "source": [
    "base_path='D:/PROJECTS/FASHIONPASS/cosin_similarity_registory/'\n",
    "cs_tag_path=base_path+'cosine_similarity_cloection_tag_1_9_2023.csv'\n",
    "cs_tag_collection_path=base_path+'cosine_similarity_cloection_tag_1_10_2023.csv'\n",
    "cs_tag_collection_path_v1=base_path+'cosine_similarity_cloection_tag_v1_1_10_2023.csv'\n",
    "cs_product_color=base_path+'cosine_similarity_product_color_1_9_2023.csv'\n",
    "cs_product_title=base_path+'cosine_similarity_product_title_1_9_2023.csv'\n",
    "product_path='D:/PROJECTS/FASHIONPASS/Database/product.csv'\n",
    "cs_tag__collection_path=base_path+'cosine_similarity_cloection_tag_1_10_2023.csv'"
   ]
  },
  {
   "cell_type": "code",
   "execution_count": 86,
   "id": "d856acc2",
   "metadata": {},
   "outputs": [],
   "source": [
    "spark = SparkSession.builder \\\n",
    "    .appName(\"PySpark MySQL Example\") \\\n",
    "    .config(\"spark.driver.extraClassPath\", \"C:/spark/spark-3.5.0-bin-hadoop3/jars/mysql-connector-java-5.1.46.jar\") \\\n",
    "    .getOrCreate()\n",
    "\n"
   ]
  },
  {
   "cell_type": "code",
   "execution_count": 91,
   "id": "f1786da5",
   "metadata": {},
   "outputs": [],
   "source": [
    "cs_tag_df=spark.read.format('csv').option('header',True) \\\n",
    ".load(cs_tag_path)\n",
    "cs_tag_collection_df=spark.read.format('csv').option('header',True) \\\n",
    ".load(cs_tag_collection_path) \n",
    "\n",
    "cs_tag_collection_v1_df=spark.read.format('csv').option('header',True) \\\n",
    ".load(cs_tag_collection_path_v1) \n",
    "cs_product_color_df=spark.read.format('csv').option('header',True) \\\n",
    ".load(cs_product_color)\n",
    "\n",
    "\n",
    "cs_prodcuct_title_df=spark.read.format('csv').option('header',True) \\\n",
    ".load(cs_product_title)\n",
    "\n",
    "Product_df=spark.read.format('csv').option('header',True) \\\n",
    ".load(product_path)"
   ]
  },
  {
   "cell_type": "code",
   "execution_count": 93,
   "id": "44d77679",
   "metadata": {},
   "outputs": [],
   "source": [
    "cs_tag_df=cs_tag_df.select(cs_tag_df.Product_A,cs_tag_df.Product_B,cs_tag_df.cosin_score.cast('float'))\n",
    "cs_tag_collection_df=cs_tag_collection_df.select(cs_tag_collection_df.Product_A,cs_tag_collection_df.Product_B,cs_tag_collection_df.cosin_score.cast('float'))\n",
    "cs_tag_collection_v1_df=cs_tag_collection_v1_df.select(cs_tag_collection_v1_df.Product_A,cs_tag_collection_v1_df.Product_B,cs_tag_collection_v1_df.cosin_score.cast('float'))\n",
    "cs_product_color_df=cs_product_color_df.select(cs_product_color_df.Product_A,cs_product_color_df.Product_B,cs_product_color_df.cosin_score_color.cast('float'))\n",
    "cs_prodcuct_title_df=cs_prodcuct_title_df.select(cs_prodcuct_title_df.Product_A,cs_prodcuct_title_df.Product_B,cs_prodcuct_title_df.cosin_score_title.cast('float'))"
   ]
  },
  {
   "cell_type": "code",
   "execution_count": 94,
   "id": "ad5c1b9d",
   "metadata": {},
   "outputs": [
    {
     "name": "stdout",
     "output_type": "stream",
     "text": [
      "+---------+---------+-----------------+\n",
      "|Product_A|Product_B|cosin_score_title|\n",
      "+---------+---------+-----------------+\n",
      "|        1|        2|        0.3454029|\n",
      "|        1|        3|        0.3454029|\n",
      "|        1|        4|       0.33695558|\n",
      "|        1|        5|       0.50686985|\n",
      "|        1|        6|        0.5391118|\n",
      "|        1|        7|        0.5391118|\n",
      "|        1|        8|        0.5391118|\n",
      "|        1|        9|       0.54921216|\n",
      "|        1|       10|       0.45818448|\n",
      "|        1|       11|       0.45818448|\n",
      "|        1|       12|       0.47669756|\n",
      "|        1|       13|       0.28714523|\n",
      "|        1|       14|        0.5835984|\n",
      "|        1|       15|        0.5232813|\n",
      "|        1|       16|        0.4204615|\n",
      "|        1|       17|        0.4204615|\n",
      "|        1|       18|        0.4204615|\n",
      "|        1|       19|        0.4204615|\n",
      "|        1|       20|        0.4204615|\n",
      "|        1|       21|        0.4204615|\n",
      "+---------+---------+-----------------+\n",
      "only showing top 20 rows\n",
      "\n"
     ]
    }
   ],
   "source": [
    "cs_prodcuct_title_df.show()"
   ]
  },
  {
   "cell_type": "code",
   "execution_count": 7,
   "id": "9ea07476",
   "metadata": {},
   "outputs": [],
   "source": [
    "def duplicate_col(data):\n",
    "  df_cols = data.columns\n",
    "  duplicate_col_index = [idx for idx,\n",
    "  val in enumerate(df_cols) if val in df_cols[:idx]]\n",
    " \n",
    "# Create a new list by renaming duplicate \n",
    "# columns by adding prefix '_duplicate_'+index\n",
    "  for i in duplicate_col_index:\n",
    "    df_cols[i] = df_cols[i] + '_duplicate_'+ str(i)\n",
    " \n",
    "# Rename the duplicate columns in data frame\n",
    "  data = data.toDF(*df_cols)\n",
    " \n",
    "# Display the data frame\n",
    "  return data"
   ]
  },
  {
   "cell_type": "code",
   "execution_count": null,
   "id": "1ea37038",
   "metadata": {},
   "outputs": [],
   "source": [
    "def intersection(lst1, lst2):\n",
    "    lst3 = [value for value in lst1 if value in lst2]\n",
    "    return lst3"
   ]
  },
  {
   "cell_type": "code",
   "execution_count": 20,
   "id": "18d3387b",
   "metadata": {},
   "outputs": [],
   "source": [
    "# cs_tag_title_df=cs_tag_df.join(cs_prodcuct_title_df,cs_tag_df.Product_A==cs_prodcuct_title_df.Product_A,'left')\n",
    "# cs_tag_title_df=duplicate_col(cs_tag_title_df)\n",
    "# cs_tag_title_color_df=cs_tag_title_df.join(cs_product_color_df,cs_tag_title_df.Product_A==cs_product_color_df.Product_A,'left')"
   ]
  },
  {
   "cell_type": "code",
   "execution_count": 120,
   "id": "26ab4271",
   "metadata": {},
   "outputs": [
    {
     "name": "stdout",
     "output_type": "stream",
     "text": [
      "8692,2178,8687,1087,5312,4656,1385,8599,2072,8058,41,6085,6054,7860,3047,530,345,6707,7865,1533,1149,3164,3655,3056,3361,941,1443,3456,3438,8451,5435,3144,297,8450,4100,8066,4920,176,3236,8535,1033,3398,3870,615,2073,5174,751,2007,5146,2050,865,33,6674,2736,277,6511,2023,6671,6377,1173,3862,4909,3897,4675,3834,3101,3234,3225,2544,2053,4965,8554,3041,2724,7127,2101,2829,1867,3275,803,1015,6499,358,8665,5031,4939,3439,6977,6569,8294,960,3645,2487,1862,463,6579,4890,3075,3990,603,2949,6862,2124,8612,6849,6424,3111,7840,1086,8441,7951,4578,4881,696,8522,4898,3893,333,7858,3292,602,6702,5108,8327,4918,8534,2848,3942,5047,2849,7330,4222,4057,196,1002,3966,4966,3215,5147,5176,4649,2838,4854,6706,522,4921,2078,3979,3120,5153,3093\n",
      "8692,8687,1942,3910,1385,2072,8058,3951,8630,6054,3069,6465,1533,8174,3164,1149,941,3053,3438,8450,297,8066,4920,3236,2992,1033,3398,3870,7732,8525,615,8456,2073,2007,7859,865,3859,2986,33,6674,2736,277,2023,6671,1173,3897,4675,3101,3234,2053,4965,8554,2724,5409,8806,2829,1867,2663,803,1015,8294,6569,4722,1587,599,6579,8340,3075,3168,603,2124,275,2068,3077,1086,7951,4671,1797,4881,2154,333,7858,1588,7973,602,6702,5108,8327,2848,5047,4886,4688,529,3977,3215,5176,4854,6706,522,3979,3093\n",
      "8692,8687,1385,2072,8058,6054,1533,1149,3164,941,3438,297,8450,8066,4920,3236,1033,3398,3870,615,2073,2007,865,33,6674,2736,277,2023,6671,1173,3897,4675,3101,3234,2053,4965,8554,2724,2829,1867,803,1015,6569,8294,6579,3075,603,2124,1086,7951,4881,333,7858,602,6702,5108,8327,2848,5047,3215,5176,4854,6706,522,3979,3093\n"
     ]
    }
   ],
   "source": [
    "product_title='DARYA OVERSIZED CREWNECK PULLOVER'\n",
    "selected_product_id=Product_df.filter(Product_df['product_title']==product_title).select('product_id').collect()[0][0]\n",
    "cs_prodcuct_title_df_product=cs_prodcuct_title_df.filter(cs_prodcuct_title_df['Product_A']==selected_product_id)\n",
    "# cs_product_color_df_product=cs_product_color_df.filter(cs_product_color_df['Product_A']==selected_product_id)\n",
    "cs_tag_df_product=cs_tag_df.filter(cs_tag_df['Product_A']==selected_product_id)\n",
    "cs_tag_collection_df_product=cs_tag_collection_df.filter(cs_tag_collection_df['Product_A']==selected_product_id)\n",
    "cs_tag_collection_v1_df_product=cs_tag_collection_v1_df.filter(cs_tag_collection_v1_df['Product_A']==selected_product_id)\n",
    "# product_title=[title[0] for title in cs_prodcuct_title_df_product.select('Product_B').collect() ]\n",
    "# product_title_color= [  product_color[0] for product_color in cs_product_color_df_product.filter(cs_product_color_df_product['Product_B'].isin(product_title)).select('Product_B').collect()]\n",
    "# product_title_color_tag=[product_tag[0] for product_tag in cs_tag_df_product.filter(cs_tag_df_product['Product_B'].isin(product_title)).select('Product_B').collect()]\n",
    "recomendation_df_product=cs_tag_df_product#cs_tag_df_product[cs_tag_df_product['Product_B'].isin(product_title_color_tag)]\n",
    "link=[]\n",
    "for row in recomendation_df_product.collect():\n",
    "     if float(row['cosin_score'])>=.80:\n",
    "        id=row['Product_B']\n",
    "        # link.append(int(id))\n",
    "        # product_thumbnail=Product_df.filter(Product_df.product_id==id).select('product_thumbnail').collect()\n",
    "        try:\n",
    "            # print('https://fashionpass.s3.us-west-1.amazonaws.com/products/'+(product_thumbnail[0][0]))\n",
    "             link.append(id)\n",
    "        except:\n",
    "            print('valid string')    \n",
    "print(','.join(link))\n",
    "            \n",
    "recomendation_df_product=cs_tag_collection_df_product#cs_tag_df_product[cs_tag_df_product['Product_B'].isin(product_title_color_tag)]\n",
    "link1=[]\n",
    "for row in recomendation_df_product.collect():\n",
    "       if float(row['cosin_score'])>=.85:\n",
    "        id=row['Product_B']\n",
    "        # link.append(int(id))\n",
    "        # product_thumbnail=Product_df.filter(Product_df.product_id==id).select('product_thumbnail').collect()\n",
    "        try:\n",
    "            # print('https://fashionpass.s3.us-west-1.amazonaws.com/products/'+(product_thumbnail[0][0]))\n",
    "             link1.append(id)\n",
    "        except:\n",
    "            print('valid string')  \n",
    "\n",
    "recomendation_df_product=cs_tag_collection_v1_df_product#cs_prodcuct_title_df_product#cs_tag_df_product[cs_tag_df_product['Product_B'].isin(product_title_color_tag)]\n",
    "link3=[]\n",
    "for row in recomendation_df_product.collect():\n",
    "       if float(row['cosin_score'])>=.90:\n",
    "        id=row['Product_B']\n",
    "        # link.append(int(id))\n",
    "        # product_thumbnail=Product_df.filter(Product_df.product_id==id).select('product_thumbnail').collect()\n",
    "        try:\n",
    "            # print('https://fashionpass.s3.us-west-1.amazonaws.com/products/'+(product_thumbnail[0][0]))\n",
    "             link3.append(id)\n",
    "        except:\n",
    "            print('valid string')              \n",
    "print(','.join(link3))\n",
    "\n",
    "recm=intersection(link,link1)\n",
    "recm=intersection(recm,link3)\n",
    "print(','.join(recm))"
   ]
  },
  {
   "cell_type": "code",
   "execution_count": 150,
   "id": "212b7a54",
   "metadata": {},
   "outputs": [],
   "source": [
    "# product_title='UNO BODYSUIT'\n",
    "# selected_product_id=Product_df.filter(Product_df['product_title']==product_title).select('product_id').collect()[0][0]\n",
    "# cs_prodcuct_title_df_product=cs_prodcuct_title_df.filter(cs_prodcuct_title_df['Product_A']==selected_product_id)\n",
    "# cs_product_color_df_product=cs_product_color_df.filter(cs_product_color_df['Product_A']==selected_product_id)\n",
    "# cs_tag_df_product=cs_tag_df.filter(cs_tag_df['Product_A']==selected_product_id)\n",
    "# product_title=[title[0] for title in cs_prodcuct_title_df_product.select('Product_B').collect() ]\n",
    "# product_title_color= [  product_color[0] for product_color in cs_product_color_df_product.filter(cs_product_color_df_product['Product_B'].isin(product_title)).select('Product_B').collect()]\n",
    "# product_title_tag=cs_prodcuct_title_df_product.filter(cs_prodcuct_title_df_product['Product_B'].isin(link))\n"
   ]
  }
 ],
 "metadata": {
  "kernelspec": {
   "display_name": "RS",
   "language": "python",
   "name": "python3"
  },
  "language_info": {
   "codemirror_mode": {
    "name": "ipython",
    "version": 3
   },
   "file_extension": ".py",
   "mimetype": "text/x-python",
   "name": "python",
   "nbconvert_exporter": "python",
   "pygments_lexer": "ipython3",
   "version": "3.11.5"
  }
 },
 "nbformat": 4,
 "nbformat_minor": 5
}
