{
 "cells": [
  {
   "cell_type": "code",
   "execution_count": 2,
   "id": "6bbb4369",
   "metadata": {},
   "outputs": [],
   "source": [
    "from pyspark.sql.session import SparkSession\n",
    "from sklearn.metrics.pairwise import cosine_similarity\n",
    "import numpy as np\n",
    "import pandas as pd\n",
    "from pyspark.sql.types import *\n",
    "from pyspark.sql.functions import concat,concat_ws\n",
    "from pyspark.sql.functions import *\n",
    "import re\n",
    "import nltk\n",
    "from nltk.stem import PorterStemmer\n",
    "from nltk.corpus import stopwords\n",
    "# nltk.download('punkt')\n",
    "# nltk.download('stopwords')\n",
    "from nltk.stem import WordNetLemmatizer\n",
    "# nltk.download('wordnet')\n",
    "import pandas as pd\n",
    "import sklearn as sk\n",
    "import numpy as np\n",
    "import re\n",
    "from sklearn.feature_extraction.text import CountVectorizer\n",
    "from sklearn.feature_extraction.text import TfidfVectorizer"
   ]
  },
  {
   "cell_type": "code",
   "execution_count": 5,
   "id": "c80c2f16",
   "metadata": {},
   "outputs": [],
   "source": [
    "product_path='D:/PROJECTS/FASHIONPASS/Database/product.csv'\n",
    "tagcloud_path='D:/PROJECTS/FASHIONPASS/Database/tag_cloud.csv'\n",
    "collection_category_tag_path='D:/PROJECTS/FASHIONPASS/Database/collection_category_tag.csv'\n",
    "product_tag_path='D:/PROJECTS/FASHIONPASS/Database/product_tag.csv'\n",
    "features_path='D:/PROJECTS/FASHIONPASS/Database/spars_dense_features.csv'\n",
    "collection_category_path='D:/PROJECTS/FASHIONPASS/Database/collection_category.csv'\n",
    "clothing_collection_path='D:/PROJECTS/FASHIONPASS/Database/cloting_collection_category.csv'\n",
    "product_cloth_collection_path='D:/PROJECTS/FASHIONPASS/Database/product_cloth_cloection_tag.csv'\n",
    "sku_path='D:/PROJECTS/FASHIONPASS/Database/sku.csv'"
   ]
  },
  {
   "cell_type": "code",
   "execution_count": 4,
   "id": "d856acc2",
   "metadata": {},
   "outputs": [],
   "source": [
    "spark = SparkSession.builder \\\n",
    "    .appName(\"PySpark MySQL Example\") \\\n",
    "    .config(\"spark.driver.extraClassPath\", \"C:/spark/spark-3.5.0-bin-hadoop3/jars/mysql-connector-java-5.1.46.jar\") \\\n",
    "    .getOrCreate()\n",
    "\n"
   ]
  },
  {
   "cell_type": "code",
   "execution_count": 6,
   "id": "f1786da5",
   "metadata": {},
   "outputs": [],
   "source": [
    "Product_df=spark.read.format('csv').option('header',True) \\\n",
    ".load(product_path)\n",
    "\n",
    "Tagcloud_df=spark.read.format('csv').option('header',True) \\\n",
    ".load(tagcloud_path)\n",
    "\n",
    "\n",
    "Collection_Category_tag_df=spark.read.format('csv').option('header',True) \\\n",
    ".load(collection_category_tag_path)\n",
    "\n",
    "Product_tag_df=spark.read.format('csv').option('header',True) \\\n",
    ".load(product_tag_path)\n",
    "\n",
    "\n",
    "features_df=spark.read.format('csv').option('header',True) \\\n",
    ".load(features_path)\n",
    "\n",
    "\n",
    "Collection_Category_df=spark.read.format('csv').option('header',True)\\\n",
    ".load(collection_category_path)\n",
    "\n",
    "clothing_collection_df=spark.read.format('csv').option('header',True)\\\n",
    ".load(clothing_collection_path)\n",
    "\n",
    "\n",
    "sku_df=spark.read.format('csv').option('header',True)\\\n",
    ".load(sku_path)\n",
    "# product_cloth_collection_tag_df=spark.read.format('csv').option('header',True)\\\n",
    "# .load(product_cloth_collection_path)"
   ]
  },
  {
   "cell_type": "code",
   "execution_count": 29,
   "id": "096193b4",
   "metadata": {},
   "outputs": [],
   "source": [
    "sku_df=sku_df.select(['product_id','option2'])\n",
    "product_color=sku_df.dropDuplicates()\n"
   ]
  },
  {
   "cell_type": "code",
   "execution_count": 30,
   "id": "6b95fef5",
   "metadata": {},
   "outputs": [
    {
     "name": "stdout",
     "output_type": "stream",
     "text": [
      "+----------+-------+\n",
      "|product_id|option2|\n",
      "+----------+-------+\n",
      "|      1192|  BLACK|\n",
      "+----------+-------+\n",
      "\n"
     ]
    }
   ],
   "source": []
  },
  {
   "cell_type": "code",
   "execution_count": 32,
   "id": "ce422c7f",
   "metadata": {},
   "outputs": [],
   "source": [
    "product_color_string=[ str(string[0]).lower() for string in product_color.select('option2').collect()]\n",
    "product_id=[ id[0] for id in  product_color.select('product_id').collect()]"
   ]
  },
  {
   "cell_type": "code",
   "execution_count": 34,
   "id": "17a6f8d2",
   "metadata": {},
   "outputs": [],
   "source": [
    "from sentence_transformers import SentenceTransformer, util\n",
    "model = SentenceTransformer('bert-base-nli-mean-tokens')\n",
    "\n",
    "# Encode sentences\n",
    "embeddings = model.encode(product_color_string, convert_to_tensor=True)"
   ]
  },
  {
   "cell_type": "code",
   "execution_count": 35,
   "id": "5e094994",
   "metadata": {},
   "outputs": [
    {
     "data": {
      "text/plain": [
       "tensor([[1.0000, 0.5021, 0.5155,  ..., 0.5155, 0.3785, 0.5574],\n",
       "        [0.5021, 1.0000, 0.7483,  ..., 0.7483, 0.4775, 0.6535],\n",
       "        [0.5155, 0.7483, 1.0000,  ..., 1.0000, 0.4646, 0.6071],\n",
       "        ...,\n",
       "        [0.5155, 0.7483, 1.0000,  ..., 1.0000, 0.4646, 0.6071],\n",
       "        [0.3785, 0.4775, 0.4646,  ..., 0.4646, 1.0000, 0.6270],\n",
       "        [0.5574, 0.6535, 0.6071,  ..., 0.6071, 0.6270, 1.0000]])"
      ]
     },
     "execution_count": 35,
     "metadata": {},
     "output_type": "execute_result"
    }
   ],
   "source": [
    "cos_sim = util.cos_sim(embeddings, embeddings)\n",
    "\n",
    "cos_sim"
   ]
  },
  {
   "cell_type": "code",
   "execution_count": 36,
   "id": "650e8846",
   "metadata": {},
   "outputs": [],
   "source": [
    "all_product_combination = {'cosin_score_color':[] , 'Product_A':[] , 'Product_B':[]}\n",
    "for i in range(len(cos_sim)-1):\n",
    "    for j in range(i+1, len(cos_sim)):\n",
    "        all_product_combination['cosin_score_color'].append(float(cos_sim[i][j]))\n",
    "        all_product_combination['Product_A'].append(product_id[i])\n",
    "        all_product_combination['Product_B'].append(product_id[j])"
   ]
  },
  {
   "cell_type": "code",
   "execution_count": 37,
   "id": "c08e588a",
   "metadata": {},
   "outputs": [],
   "source": [
    "recomendation_df=pd.DataFrame(all_product_combination)"
   ]
  },
  {
   "cell_type": "code",
   "execution_count": 47,
   "id": "50c23bf9",
   "metadata": {},
   "outputs": [],
   "source": [
    "recomendation_df.to_csv('D:/PROJECTS/FASHIONPASS/cosin_similarity_registory/cosine_similarity_product_color_1_9_2023.csv')"
   ]
  },
  {
   "cell_type": "code",
   "execution_count": 49,
   "id": "071c710f",
   "metadata": {},
   "outputs": [
    {
     "name": "stdout",
     "output_type": "stream",
     "text": [
      "\n"
     ]
    }
   ],
   "source": [
    "product_title='SAILOR PANT'\n",
    "selected_product_id=Product_df.filter(Product_df['product_title']==product_title).select('product_id').collect()[0][0]\n",
    "recomendation_df_product=recomendation_df[recomendation_df['Product_A']==selected_product_id]\n",
    "link=[]\n",
    "for index,row in recomendation_df_product.iterrows():\n",
    "    if row['cosin_score_color']>=.90:\n",
    "        id=row['Product_B']\n",
    "        # link.append(int(id))\n",
    "        # product_thumbnail=Product_df.filter(Product_df.product_id==id).select('product_thumbnail').collect()\n",
    "        try:\n",
    "            # print('https://fashionpass.s3.us-west-1.amazonaws.com/products/'+(product_thumbnail[0][0]))\n",
    "             link.append(id)\n",
    "        except:\n",
    "            print('valid string')    \n",
    "print(','.join(link))"
   ]
  },
  {
   "cell_type": "code",
   "execution_count": 51,
   "id": "b48a3f4b",
   "metadata": {},
   "outputs": [
    {
     "data": {
      "text/html": [
       "<div>\n",
       "<style scoped>\n",
       "    .dataframe tbody tr th:only-of-type {\n",
       "        vertical-align: middle;\n",
       "    }\n",
       "\n",
       "    .dataframe tbody tr th {\n",
       "        vertical-align: top;\n",
       "    }\n",
       "\n",
       "    .dataframe thead th {\n",
       "        text-align: right;\n",
       "    }\n",
       "</style>\n",
       "<table border=\"1\" class=\"dataframe\">\n",
       "  <thead>\n",
       "    <tr style=\"text-align: right;\">\n",
       "      <th></th>\n",
       "      <th>cosin_score_color</th>\n",
       "      <th>Product_A</th>\n",
       "      <th>Product_B</th>\n",
       "    </tr>\n",
       "  </thead>\n",
       "  <tbody>\n",
       "    <tr>\n",
       "      <th>12774300</th>\n",
       "      <td>0.589396</td>\n",
       "      <td>7641</td>\n",
       "      <td>7879</td>\n",
       "    </tr>\n",
       "    <tr>\n",
       "      <th>12774301</th>\n",
       "      <td>0.397006</td>\n",
       "      <td>7641</td>\n",
       "      <td>8036</td>\n",
       "    </tr>\n",
       "    <tr>\n",
       "      <th>12774302</th>\n",
       "      <td>0.601015</td>\n",
       "      <td>7641</td>\n",
       "      <td>8137</td>\n",
       "    </tr>\n",
       "    <tr>\n",
       "      <th>12774303</th>\n",
       "      <td>0.537408</td>\n",
       "      <td>7641</td>\n",
       "      <td>8460</td>\n",
       "    </tr>\n",
       "    <tr>\n",
       "      <th>12774304</th>\n",
       "      <td>0.564079</td>\n",
       "      <td>7641</td>\n",
       "      <td>8496</td>\n",
       "    </tr>\n",
       "    <tr>\n",
       "      <th>...</th>\n",
       "      <td>...</td>\n",
       "      <td>...</td>\n",
       "      <td>...</td>\n",
       "    </tr>\n",
       "    <tr>\n",
       "      <th>12781386</th>\n",
       "      <td>0.598916</td>\n",
       "      <td>7641</td>\n",
       "      <td>1243</td>\n",
       "    </tr>\n",
       "    <tr>\n",
       "      <th>12781387</th>\n",
       "      <td>0.592194</td>\n",
       "      <td>7641</td>\n",
       "      <td>4333</td>\n",
       "    </tr>\n",
       "    <tr>\n",
       "      <th>12781388</th>\n",
       "      <td>0.537408</td>\n",
       "      <td>7641</td>\n",
       "      <td>5596</td>\n",
       "    </tr>\n",
       "    <tr>\n",
       "      <th>12781389</th>\n",
       "      <td>0.522239</td>\n",
       "      <td>7641</td>\n",
       "      <td>887</td>\n",
       "    </tr>\n",
       "    <tr>\n",
       "      <th>12781390</th>\n",
       "      <td>0.792076</td>\n",
       "      <td>7641</td>\n",
       "      <td>728</td>\n",
       "    </tr>\n",
       "  </tbody>\n",
       "</table>\n",
       "<p>7091 rows × 3 columns</p>\n",
       "</div>"
      ],
      "text/plain": [
       "          cosin_score_color Product_A Product_B\n",
       "12774300           0.589396      7641      7879\n",
       "12774301           0.397006      7641      8036\n",
       "12774302           0.601015      7641      8137\n",
       "12774303           0.537408      7641      8460\n",
       "12774304           0.564079      7641      8496\n",
       "...                     ...       ...       ...\n",
       "12781386           0.598916      7641      1243\n",
       "12781387           0.592194      7641      4333\n",
       "12781388           0.537408      7641      5596\n",
       "12781389           0.522239      7641       887\n",
       "12781390           0.792076      7641       728\n",
       "\n",
       "[7091 rows x 3 columns]"
      ]
     },
     "execution_count": 51,
     "metadata": {},
     "output_type": "execute_result"
    }
   ],
   "source": [
    "recomendation_df_product"
   ]
  }
 ],
 "metadata": {
  "kernelspec": {
   "display_name": "RS",
   "language": "python",
   "name": "python3"
  },
  "language_info": {
   "codemirror_mode": {
    "name": "ipython",
    "version": 3
   },
   "file_extension": ".py",
   "mimetype": "text/x-python",
   "name": "python",
   "nbconvert_exporter": "python",
   "pygments_lexer": "ipython3",
   "version": "3.11.5"
  }
 },
 "nbformat": 4,
 "nbformat_minor": 5
}
